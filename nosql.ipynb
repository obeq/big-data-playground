{
 "cells": [
  {
   "cell_type": "code",
   "execution_count": 24,
   "metadata": {},
   "outputs": [
    {
     "name": "stdout",
     "output_type": "stream",
     "text": [
      "Requirement already satisfied: pymongo[srv] in ./.venv/lib/python3.11/site-packages (4.7.2)\n",
      "Requirement already satisfied: python-dotenv in ./.venv/lib/python3.11/site-packages (1.0.1)\n",
      "Requirement already satisfied: dnspython<3.0.0,>=1.16.0 in ./.venv/lib/python3.11/site-packages (from pymongo[srv]) (2.6.1)\n"
     ]
    },
    {
     "name": "stdout",
     "output_type": "stream",
     "text": [
      "\n",
      "\u001b[1m[\u001b[0m\u001b[34;49mnotice\u001b[0m\u001b[1;39;49m]\u001b[0m\u001b[39;49m A new release of pip available: \u001b[0m\u001b[31;49m22.3.1\u001b[0m\u001b[39;49m -> \u001b[0m\u001b[32;49m24.0\u001b[0m\n",
      "\u001b[1m[\u001b[0m\u001b[34;49mnotice\u001b[0m\u001b[1;39;49m]\u001b[0m\u001b[39;49m To update, run: \u001b[0m\u001b[32;49mpip install --upgrade pip\u001b[0m\n",
      "Note: you may need to restart the kernel to use updated packages.\n"
     ]
    }
   ],
   "source": [
    "%pip install \"pymongo[srv]\" python-dotenv"
   ]
  },
  {
   "cell_type": "code",
   "execution_count": 25,
   "metadata": {},
   "outputs": [
    {
     "data": {
      "text/plain": [
       "True"
      ]
     },
     "execution_count": 25,
     "metadata": {},
     "output_type": "execute_result"
    }
   ],
   "source": [
    "from dotenv import load_dotenv\n",
    "import os\n",
    "import pandas as pd\n",
    "\n",
    "from pymongo.mongo_client import MongoClient\n",
    "from pymongo.server_api import ServerApi\n",
    "\n",
    "load_dotenv()"
   ]
  },
  {
   "cell_type": "code",
   "execution_count": 26,
   "metadata": {},
   "outputs": [],
   "source": [
    "url = os.getenv(\"MONGODB_CONNECTION_URL\")\n",
    "\n",
    "DATA_DIR = 'data/'\n",
    "\n",
    "# url"
   ]
  },
  {
   "cell_type": "code",
   "execution_count": 27,
   "metadata": {},
   "outputs": [
    {
     "name": "stdout",
     "output_type": "stream",
     "text": [
      "Pinged your deployment successfully!\n"
     ]
    }
   ],
   "source": [
    "client = MongoClient(url, server_api=ServerApi('1'))\n",
    "\n",
    "client.admin.command('ping')\n",
    "print(\"Pinged your deployment successfully!\")\n",
    "\n",
    "database = client['temps']\n",
    "collection = database['obe-temperatures']"
   ]
  },
  {
   "cell_type": "markdown",
   "metadata": {},
   "source": [
    "This is how to upload _one_ document"
   ]
  },
  {
   "cell_type": "code",
   "execution_count": 28,
   "metadata": {},
   "outputs": [],
   "source": [
    "# result = collection.insert_one({\n",
    "#     \"temperature\": 25.5,\n",
    "#     \"timestamp\": \"2021-09-01T12:00:00Z\",\n",
    "#     \"city\": \"Uppsala\"\n",
    "# })\n",
    "\n",
    "# print(result.acknowledged)"
   ]
  },
  {
   "cell_type": "markdown",
   "metadata": {},
   "source": [
    "Edit this function so that it uploads data to the mongodb collection instead!"
   ]
  },
  {
   "cell_type": "code",
   "execution_count": 31,
   "metadata": {},
   "outputs": [],
   "source": [
    "def insert_temps_from_csv(file_path, city_name):\n",
    "    # Find header row\n",
    "    header_row = -1\n",
    "    with open(file_path, 'r') as fp:\n",
    "        for i, line in enumerate(fp):\n",
    "            if line.startswith('Datum;Tid (UTC)'):\n",
    "                header_row = i\n",
    "                break\n",
    "\n",
    "    if (header_row < 0):\n",
    "        print(\"Could not find header in file!\")\n",
    "        return\n",
    "\n",
    "    # Upload data to mongodb\n",
    "    data = pd.read_csv(file_path, sep=\";\", skiprows=header_row)\n",
    "    data['DatumTid'] = data['Datum'] + ' ' + data['Tid (UTC)']\n",
    "\n",
    "    data = data[['DatumTid', 'Lufttemperatur']]\n",
    "    data.columns = ['timestamp', 'temperature']\n",
    "    data['city'] = city_name\n",
    "\n",
    "    data_as_dict = data.to_dict('records')\n",
    "\n",
    "    collection.insert_many(data.to_dict('records'))"
   ]
  },
  {
   "cell_type": "code",
   "execution_count": 32,
   "metadata": {},
   "outputs": [
    {
     "name": "stderr",
     "output_type": "stream",
     "text": [
      "/var/folders/pg/6tvtzc815214nstb4nc45dcw0000gn/T/ipykernel_78001/2798823563.py:15: DtypeWarning: Columns (5) have mixed types. Specify dtype option on import or set low_memory=False.\n",
      "  data = pd.read_csv(file_path, sep=\";\", skiprows=header_row)\n"
     ]
    },
    {
     "name": "stderr",
     "output_type": "stream",
     "text": [
      "/var/folders/pg/6tvtzc815214nstb4nc45dcw0000gn/T/ipykernel_78001/2798823563.py:15: DtypeWarning: Columns (5) have mixed types. Specify dtype option on import or set low_memory=False.\n",
      "  data = pd.read_csv(file_path, sep=\";\", skiprows=header_row)\n"
     ]
    }
   ],
   "source": [
    "insert_temps_from_csv(DATA_DIR + 'temp-uppsala.csv', 'Uppsala')\n",
    "insert_temps_from_csv(DATA_DIR + 'temp-lulea.csv', 'Luleå')\n",
    "insert_temps_from_csv(DATA_DIR + 'temp-goteborg.csv', 'Göteborg')"
   ]
  },
  {
   "cell_type": "code",
   "execution_count": 33,
   "metadata": {},
   "outputs": [],
   "source": [
    "client.close()"
   ]
  }
 ],
 "metadata": {
  "kernelspec": {
   "display_name": ".venv",
   "language": "python",
   "name": "python3"
  },
  "language_info": {
   "codemirror_mode": {
    "name": "ipython",
    "version": 3
   },
   "file_extension": ".py",
   "mimetype": "text/x-python",
   "name": "python",
   "nbconvert_exporter": "python",
   "pygments_lexer": "ipython3",
   "version": "3.11.0"
  }
 },
 "nbformat": 4,
 "nbformat_minor": 2
}
